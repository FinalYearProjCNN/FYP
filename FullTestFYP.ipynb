{
  "cells": [
    {
      "cell_type": "code",
      "execution_count": 12,
      "metadata": {
        "id": "ISe4tocQL7Xt"
      },
      "outputs": [],
      "source": [
        "import numpy as np\n",
        "import pandas as pd\n",
        "import matplotlib.pyplot as plt\n",
        "import tensorflow as tf\n",
        "from keras.preprocessing.image import ImageDataGenerator\n",
        "from keras.applications import ResNet50\n",
        "import seaborn as sn\n",
        "from sklearn.model_selection import train_test_split\n",
        "import skimage.io\n",
        "import keras.backend as K\n",
        "import keras\n",
        "import pickle\n",
        "import keras.layers as layers\n",
        "from keras import Model, Sequential\n",
        "import keras.models\n",
        "from keras.layers import *\n",
        "from keras.models import * \n",
        "from keras import optimizers, applications\n",
        "from keras.applications.nasnet import NASNetLarge\n",
        "from keras.preprocessing import image\n",
        "from keras.callbacks import ModelCheckpoint, EarlyStopping, ReduceLROnPlateau\n",
        "from GA import GeneticAlgorithm\n"
      ]
    },
    {
      "cell_type": "code",
      "execution_count": 13,
      "metadata": {
        "id": "ASe8TtLWMXD-"
      },
      "outputs": [],
      "source": [
        "class MyModel():\n",
        "\n",
        "    def load_data(self):\n",
        "        classes = ['angry', 'disgusted', 'fearful',\n",
        "                   'happy', 'neutral', 'sad', 'suprised']\n",
        "        train_path = \"/Users/macair/FYP_TitoE/FYP/faces/train\"\n",
        "        test_path = \"/Users/macair/FYP_TitoE/FYP/faces/test\"\n",
        "\n",
        "        batch_size = 64\n",
        "        train_datagen = image.ImageDataGenerator(\n",
        "            rotation_range=15,\n",
        "            shear_range=0.2,\n",
        "            zoom_range=0.2,\n",
        "            horizontal_flip=True,\n",
        "            fill_mode='nearest',\n",
        "            width_shift_range=0.1,\n",
        "            height_shift_range=0.1,\n",
        "            validation_split=0.2\n",
        "        )\n",
        "\n",
        "        test_datagen = image.ImageDataGenerator(\n",
        "            rotation_range=15,\n",
        "            shear_range=0.2,\n",
        "            zoom_range=0.2,\n",
        "            horizontal_flip=True,\n",
        "            fill_mode='nearest',\n",
        "            width_shift_range=0.1,\n",
        "            height_shift_range=0.1)\n",
        "\n",
        "        train_generator = train_datagen.flow_from_directory(\n",
        "            train_path,\n",
        "            target_size=(48, 48),\n",
        "            batch_size=64,\n",
        "            class_mode='categorical',\n",
        "            shuffle=True)\n",
        "\n",
        "        validation_generator = train_datagen.flow_from_directory(\n",
        "            train_path,\n",
        "            subset='validation',\n",
        "            target_size=(48, 48),\n",
        "            batch_size=64,\n",
        "            shuffle=True,\n",
        "            class_mode='categorical')\n",
        "\n",
        "        test_generator = test_datagen.flow_from_directory(\n",
        "            test_path,\n",
        "            target_size=(48, 48),\n",
        "            batch_size=64,\n",
        "            shuffle=True,\n",
        "            class_mode='categorical')\n"
      ]
    },
    {
      "cell_type": "code",
      "execution_count": 14,
      "metadata": {
        "id": "75Wlc3qYdVL6"
      },
      "outputs": [],
      "source": [
        "def f1_score(y_true, y_pred): \n",
        "    true_positives = K.sum(K.round(K.clip(y_true * y_pred, 0, 1)))\n",
        "    possible_positives = K.sum(K.round(K.clip(y_true, 0, 1)))\n",
        "    predicted_positives = K.sum(K.round(K.clip(y_pred, 0, 1)))\n",
        "    precision = true_positives / (predicted_positives + K.epsilon())\n",
        "    recall = true_positives / (possible_positives + K.epsilon())\n",
        "    return 2*(precision*recall)/(precision+recall+K.epsilon())"
      ]
    },
    {
      "cell_type": "code",
      "execution_count": 15,
      "metadata": {
        "id": "1WUn6ExtZ0BW"
      },
      "outputs": [],
      "source": [
        "METRICS = [\n",
        "      tf.keras.metrics.BinaryAccuracy(name='accuracy'),\n",
        "      tf.keras.metrics.Precision(name='precision'),\n",
        "      tf.keras.metrics.Recall(name='recall'),  \n",
        "      tf.keras.metrics.AUC(name='auc'),\n",
        "        f1_score,\n",
        "]"
      ]
    },
    {
      "cell_type": "code",
      "execution_count": 16,
      "metadata": {},
      "outputs": [],
      "source": [
        "import GA\n",
        "ga = GA.GeneticAlgorithm(rate_of_decay = 0, num_epochs =0, learning_rate=0)\n"
      ]
    },
    {
      "cell_type": "code",
      "execution_count": 26,
      "metadata": {
        "id": "u1flxkBiYJda"
      },
      "outputs": [],
      "source": [
        "def __init__(self):\n",
        "    base_model = applications.ResNet50(weights='imagenet',\n",
        "                                          include_top=False,\n",
        "                                          input_shape=(48, 48, 3))\n",
        "\n",
        "    for layer in base_model.layers[:-4]:\n",
        "            layer.trainable = False\n",
        "\n",
        "            model = keras.Sequential()\n",
        "            model.add(base_model)\n",
        "            model.add(keras.layers.Flatten())\n",
        "            model.add(keras.layers.Dense(1024, activation=\"relu\"))\n",
        "            model.add(keras.layers.Dense(7, activation=\"softmax\"))\n",
        "            model.add(keras.layers.Dropout(0.5))\n",
        "\n",
        "    input_shape = (None, 48, 48, 3)\n",
        "    model.build(input_shape)\n",
        "\n",
        "    METRICS = [\n",
        "            tf.keras.metrics.BinaryAccuracy(name='accuracy'),\n",
        "            tf.keras.metrics.Precision(name='precision'),\n",
        "            tf.keras.metrics.Recall(name='recall'),\n",
        "            tf.keras.metrics.AUC(name='auc'),\n",
        "            self.f1_score,\n",
        "        ]\n",
        "\n",
        "    model.compile(optimizers.Adam(learning_rate=0.0001,\n",
        "                                      decay=1e-4), loss='MSE', metrics=METRICS)\n",
        "    model.summary()\n",
        "    model.save('/Users/macair/FYP_TitoE/FYP/Completed_model/mymodel.h5')\n"
      ]
    },
    {
      "cell_type": "code",
      "execution_count": 18,
      "metadata": {},
      "outputs": [],
      "source": [
        "def train_model(self):\n",
        "    checkpoint = ModelCheckpoint(\"resnet50.h5\", monitor='val_loss', verbose=1,\n",
        "                                 save_best_only=True, save_weights_only=False, mode='auto', save_freq=1)\n",
        "    early = EarlyStopping(verbose=1, monitor='val_loss',\n",
        "                          min_delta=0.0001, patience=20, mode='auto')\n",
        "    lrd = ReduceLROnPlateau(\n",
        "        monitor='val_loss', patience=20, verbose=1, factor=0.50, min_lr=1e-10)\n",
        "    prediction = self.model.predict(self.validation_generator)\n",
        "    return self.model.fit(\n",
        "        self.train_generator,\n",
        "        validation_data=self.validation_generator,\n",
        "        epochs=5,\n",
        "        callbacks=[checkpoint, early, lrd],\n",
        "        verbose=1,\n",
        "    )\n"
      ]
    },
    {
      "cell_type": "code",
      "execution_count": null,
      "metadata": {
        "id": "U0nYg0UEmw_K"
      },
      "outputs": [],
      "source": [
        "#filename = \"./Completed_model\"\n",
        "#save_model(model, filename)\n",
        "#loaded_model = keras.models.load_model(filename)"
      ]
    },
    {
      "cell_type": "code",
      "execution_count": 19,
      "metadata": {
        "id": "3NUHCrRxNbOZ"
      },
      "outputs": [],
      "source": [
        "def Train_Val_Plot(self, acc, val_acc, loss, val_loss, auc, val_auc, precision, val_precision, f1, val_f1):\n",
        "    fig, (ax1, ax2, ax3, ax4, ax5) = plt.subplots(1, 5, figsize=(20, 5))\n",
        "    fig.suptitle(\" MODEL'S METRICS VISUALIZATION \")\n",
        "\n",
        "    ax1.plot(range(1, len(acc) + 1), acc)\n",
        "    ax1.plot(range(1, len(val_acc) + 1), val_acc)\n",
        "    ax1.set_title('History of Accuracy')\n",
        "    ax1.set_xlabel('Epochs')\n",
        "    ax1.set_ylabel('Accuracy')\n",
        "    ax1.legend(['training', 'validation'])\n",
        "\n",
        "    ax2.plot(range(1, len(loss) + 1), loss)\n",
        "    ax2.plot(range(1, len(val_loss) + 1), val_loss)\n",
        "    ax2.set_title('History of Loss')\n",
        "    ax2.set_xlabel('Epochs')\n",
        "    ax2.set_ylabel('Loss')\n",
        "    ax2.legend(['training', 'validation'])\n",
        "\n",
        "    ax3.plot(range(1, len(auc) + 1), auc)\n",
        "    ax3.plot(range(1, len(val_auc) + 1), val_auc)\n",
        "    ax3.set_title('History of AUC')\n",
        "    ax3.set_xlabel('Epochs')\n",
        "    ax3.set_ylabel('AUC')\n",
        "    ax3.legend(['training', 'validation'])\n",
        "\n",
        "    ax4.plot(range(1, len(precision) + 1), precision)\n",
        "    ax4.plot(range(1, len(val_precision) + 1), val_precision)\n",
        "    ax4.set_title('History of Precision')\n",
        "    ax4.set_xlabel('Epochs')\n",
        "    ax4.set_ylabel('Precision')\n",
        "    ax4.legend(['training', 'validation'])\n",
        "\n",
        "    ax5.plot(range(1, len(f1) + 1), f1)\n",
        "    ax5.plot(range(1, len(val_f1) + 1), val_f1)\n",
        "    ax5.set_title('History of F1-score')\n",
        "    ax5.set_xlabel('Epochs')\n",
        "    ax5.set_ylabel('F1 score')\n",
        "    ax5.legend(['training', 'validation'])\n",
        "\n",
        "    plt.show()\n"
      ]
    },
    {
      "cell_type": "code",
      "execution_count": 20,
      "metadata": {},
      "outputs": [],
      "source": [
        "def train_and_plot(self):\n",
        "    hist = self\n"
      ]
    }
  ],
  "metadata": {
    "accelerator": "GPU",
    "colab": {
      "provenance": []
    },
    "gpuClass": "standard",
    "kernelspec": {
      "display_name": "Python 3.10.0 64-bit",
      "language": "python",
      "name": "python3"
    },
    "language_info": {
      "codemirror_mode": {
        "name": "ipython",
        "version": 3
      },
      "file_extension": ".py",
      "mimetype": "text/x-python",
      "name": "python",
      "nbconvert_exporter": "python",
      "pygments_lexer": "ipython3",
      "version": "3.10.0"
    },
    "vscode": {
      "interpreter": {
        "hash": "98590ff4fe04c8543246b2a01debd3de3c5ca9b666f43f1fa87d5110c692004c"
      }
    }
  },
  "nbformat": 4,
  "nbformat_minor": 0
}
